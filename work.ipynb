{
  "nbformat": 4,
  "nbformat_minor": 0,
  "metadata": {
    "colab": {
      "name": "Witamy w Colaboratory",
      "provenance": [],
      "collapsed_sections": [],
      "toc_visible": true,
      "include_colab_link": true
    },
    "kernelspec": {
      "display_name": "Python 3",
      "name": "python3"
    }
  },
  "cells": [
    {
      "cell_type": "markdown",
      "metadata": {
        "id": "view-in-github",
        "colab_type": "text"
      },
      "source": [
        "<a href=\"https://colab.research.google.com/github/oskarkon/dw_matrix_car/blob/master/work.ipynb\" target=\"_parent\"><img src=\"https://colab.research.google.com/assets/colab-badge.svg\" alt=\"Open In Colab\"/></a>"
      ]
    },
    {
      "cell_type": "code",
      "metadata": {
        "id": "uuePbbmjfZ7v",
        "colab_type": "code",
        "colab": {}
      },
      "source": [
        ""
      ],
      "execution_count": null,
      "outputs": []
    },
    {
      "cell_type": "code",
      "metadata": {
        "id": "dfLFUzhpfbOZ",
        "colab_type": "code",
        "colab": {
          "base_uri": "https://localhost:8080/",
          "height": 34
        },
        "outputId": "c15fdb9f-428d-4ae8-e9c2-d0754230aaca"
      },
      "source": [
        "from google.colab import drive\n",
        "drive.mount('/content/drive')"
      ],
      "execution_count": null,
      "outputs": [
        {
          "output_type": "stream",
          "text": [
            "Drive already mounted at /content/drive; to attempt to forcibly remount, call drive.mount(\"/content/drive\", force_remount=True).\n"
          ],
          "name": "stdout"
        }
      ]
    },
    {
      "cell_type": "code",
      "metadata": {
        "id": "8uZmOS1Fy9m4",
        "colab_type": "code",
        "colab": {}
      },
      "source": [
        "import pandas as pd\n",
        "import numpy as np\n",
        "import io \n",
        "\n",
        "f=lambda x: (x.replace(',','.'))\n",
        "headers=['pro_data','pro_typ','modulo','saldo_plz','saldo_usd','waluta','typ_pro','podmiotowosc','data_otwarcia','data_zapadalnosci','zap_niesplacony_wal']\n",
        "dtypes={'modulo':'int64','pro_typ':'string','waluta':'string'}\n",
        "parse_datess=['pro_data','data_otwarcia','data_zapadalnosci']\n",
        "\n",
        "from google.colab import files \n",
        "uploaded = files.upload()\n"
      ],
      "execution_count": null,
      "outputs": []
    },
    {
      "cell_type": "code",
      "metadata": {
        "id": "uTqH8dwv6317",
        "colab_type": "code",
        "colab": {
          "base_uri": "https://localhost:8080/",
          "height": 142
        },
        "outputId": "a8b96754-56d8-4454-eebc-6a73b1ee0e62"
      },
      "source": [
        "kredyty=pd.read_csv(io.BytesIO(uploaded['kredyty202007.csv']), sep=';', names=headers,header=0,dtype=dtypes,parse_dates=parse_datess,converters={'saldo_plz':f , 'saldo_usd':f, 'zap_niesplacony_wal':f})\n",
        "\n",
        "kredyty['saldo_plz']=pd.to_numeric(kredyty['saldo_plz'],errors='coerce')\n",
        "kredyty['saldo_usd']=pd.to_numeric(kredyty['saldo_usd'],errors='coerce')\n",
        "kredyty['zap_niesplacony_wal']=pd.to_numeric(kredyty['zap_niesplacony_wal'],errors='coerce')\n",
        "kredyty.head(3)"
      ],
      "execution_count": null,
      "outputs": [
        {
          "output_type": "execute_result",
          "data": {
            "text/html": [
              "<div>\n",
              "<style scoped>\n",
              "    .dataframe tbody tr th:only-of-type {\n",
              "        vertical-align: middle;\n",
              "    }\n",
              "\n",
              "    .dataframe tbody tr th {\n",
              "        vertical-align: top;\n",
              "    }\n",
              "\n",
              "    .dataframe thead th {\n",
              "        text-align: right;\n",
              "    }\n",
              "</style>\n",
              "<table border=\"1\" class=\"dataframe\">\n",
              "  <thead>\n",
              "    <tr style=\"text-align: right;\">\n",
              "      <th></th>\n",
              "      <th>pro_data</th>\n",
              "      <th>pro_typ</th>\n",
              "      <th>modulo</th>\n",
              "      <th>saldo_plz</th>\n",
              "      <th>saldo_usd</th>\n",
              "      <th>waluta</th>\n",
              "      <th>typ_pro</th>\n",
              "      <th>podmiotowosc</th>\n",
              "      <th>data_otwarcia</th>\n",
              "      <th>data_zapadalnosci</th>\n",
              "      <th>zap_niesplacony_wal</th>\n",
              "    </tr>\n",
              "  </thead>\n",
              "  <tbody>\n",
              "    <tr>\n",
              "      <th>0</th>\n",
              "      <td>202007</td>\n",
              "      <td>KRE</td>\n",
              "      <td>600023920072</td>\n",
              "      <td>44428.85</td>\n",
              "      <td>44428.85</td>\n",
              "      <td>PLN</td>\n",
              "      <td>6344</td>\n",
              "      <td>24</td>\n",
              "      <td>2016-07-20</td>\n",
              "      <td>2026-07-20</td>\n",
              "      <td>44428.85</td>\n",
              "    </tr>\n",
              "    <tr>\n",
              "      <th>1</th>\n",
              "      <td>202007</td>\n",
              "      <td>KRE</td>\n",
              "      <td>600023630081</td>\n",
              "      <td>539.30</td>\n",
              "      <td>539.30</td>\n",
              "      <td>PLN</td>\n",
              "      <td>6344</td>\n",
              "      <td>24</td>\n",
              "      <td>2016-02-25</td>\n",
              "      <td>2021-03-05</td>\n",
              "      <td>539.30</td>\n",
              "    </tr>\n",
              "    <tr>\n",
              "      <th>2</th>\n",
              "      <td>202007</td>\n",
              "      <td>KRE</td>\n",
              "      <td>600023088842</td>\n",
              "      <td>3116.80</td>\n",
              "      <td>3116.80</td>\n",
              "      <td>PLN</td>\n",
              "      <td>6350</td>\n",
              "      <td>24</td>\n",
              "      <td>2015-05-22</td>\n",
              "      <td>2021-05-15</td>\n",
              "      <td>249.30</td>\n",
              "    </tr>\n",
              "  </tbody>\n",
              "</table>\n",
              "</div>"
            ],
            "text/plain": [
              "  pro_data pro_typ  ...  data_zapadalnosci  zap_niesplacony_wal\n",
              "0   202007     KRE  ...         2026-07-20             44428.85\n",
              "1   202007     KRE  ...         2021-03-05               539.30\n",
              "2   202007     KRE  ...         2021-05-15               249.30\n",
              "\n",
              "[3 rows x 11 columns]"
            ]
          },
          "metadata": {
            "tags": []
          },
          "execution_count": 13
        }
      ]
    },
    {
      "cell_type": "code",
      "metadata": {
        "id": "y8Uty0tTzATS",
        "colab_type": "code",
        "colab": {}
      },
      "source": [
        ""
      ],
      "execution_count": null,
      "outputs": []
    }
  ]
}
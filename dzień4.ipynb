{
  "nbformat": 4,
  "nbformat_minor": 0,
  "metadata": {
    "colab": {
      "name": "dzień4.ipynb",
      "provenance": [],
      "mount_file_id": "1-tSmyU6q19bCHSWgyn_U_kH0st_-OtCP",
      "authorship_tag": "ABX9TyNyD7NdOblcUCV+gzxAKLwQ",
      "include_colab_link": true
    },
    "kernelspec": {
      "name": "python3",
      "display_name": "Python 3"
    },
    "accelerator": "GPU"
  },
  "cells": [
    {
      "cell_type": "markdown",
      "metadata": {
        "id": "view-in-github",
        "colab_type": "text"
      },
      "source": [
        "<a href=\"https://colab.research.google.com/github/oskarkon/dw_matrix_car/blob/master/dzie%C5%844.ipynb\" target=\"_parent\"><img src=\"https://colab.research.google.com/assets/colab-badge.svg\" alt=\"Open In Colab\"/></a>"
      ]
    },
    {
      "cell_type": "code",
      "metadata": {
        "id": "KfO97S5Pn1IV",
        "colab_type": "code",
        "outputId": "2a555ffb-88f5-46bd-cf57-1eed13f3bd3e",
        "colab": {
          "base_uri": "https://localhost:8080/",
          "height": 34
        }
      },
      "source": [
        "import pandas as pd\n",
        "import numpy as np\n",
        "import os\n",
        "import datetime\n",
        "import tensorflow as tf\n",
        "from tensorflow.keras.models import Sequential\n",
        "from tensorflow.keras.layers import Conv2D, MaxPool2D, Dense, Flatten,Dropout\n",
        "from tensorflow.keras.utils import to_categorical\n",
        "%tensorflow_version 1.x\n",
        "#%load_ext tensorboard\n",
        "import matplotlib.pyplot as plt\n",
        "from skimage import color,exposure\n",
        "from sklearn.metrics import accuracy_score"
      ],
      "execution_count": 118,
      "outputs": [
        {
          "output_type": "stream",
          "text": [
            "TensorFlow is already loaded. Please restart the runtime to change versions.\n"
          ],
          "name": "stdout"
        }
      ]
    },
    {
      "cell_type": "code",
      "metadata": {
        "id": "rjJ7WKopoLFO",
        "colab_type": "code",
        "outputId": "ea8aaf35-8d52-434f-a758-7962b7c99d63",
        "colab": {
          "base_uri": "https://localhost:8080/",
          "height": 34
        }
      },
      "source": [
        "cd '/content/drive/My Drive/Colab Notebooks/dw_matrix/matrix_tree/data/dw_matrix_road_sign/data'"
      ],
      "execution_count": 119,
      "outputs": [
        {
          "output_type": "stream",
          "text": [
            "/content/drive/My Drive/Colab Notebooks/dw_matrix/matrix_tree/data/dw_matrix_road_sign/data\n"
          ],
          "name": "stdout"
        }
      ]
    },
    {
      "cell_type": "code",
      "metadata": {
        "id": "jJfknDqgogNP",
        "colab_type": "code",
        "colab": {}
      },
      "source": [
        "train=pd.read_pickle('train.p')\n",
        "test=pd.read_pickle('test.p')\n",
        "X_train, y_train =train['features'], train['labels']\n",
        "X_test,y_test=test['features'],test['labels']"
      ],
      "execution_count": 0,
      "outputs": []
    },
    {
      "cell_type": "code",
      "metadata": {
        "id": "r97lE22fpE-0",
        "colab_type": "code",
        "colab": {}
      },
      "source": [
        "if y_train.ndim ==1: y_train=to_categorical(y_train)\n",
        "if y_test.ndim ==1: y_test=to_categorical(y_test)"
      ],
      "execution_count": 0,
      "outputs": []
    },
    {
      "cell_type": "code",
      "metadata": {
        "id": "IAZXdgrUpmTG",
        "colab_type": "code",
        "colab": {}
      },
      "source": [
        "input_shape=X_train.shape[1:]\n",
        "num_classes = y_train.shape[1]"
      ],
      "execution_count": 0,
      "outputs": []
    },
    {
      "cell_type": "code",
      "metadata": {
        "id": "7fdQ0JyTqf5N",
        "colab_type": "code",
        "outputId": "7e6ab0a2-882a-4036-a3e2-5b1593b38fbc",
        "colab": {
          "base_uri": "https://localhost:8080/",
          "height": 52
        }
      },
      "source": [
        "model=Sequential([\n",
        "   Conv2D(filters=64, kernel_size=(3,3),activation='relu',input_shape=input_shape),               \n",
        "\n",
        "    Flatten(),\n",
        "\n",
        "    Dense(num_classes, activation='softmax'),\n",
        "])\n",
        "#model.summary()\n",
        "model.compile(loss='categorical_crossentropy',optimizer='Adam',metrics=['accuracy'])\n",
        "\n",
        "model.fit(X_train,y_train)"
      ],
      "execution_count": 123,
      "outputs": [
        {
          "output_type": "stream",
          "text": [
            "1088/1088 [==============================] - 3s 3ms/step - loss: 8.8162 - accuracy: 0.7774\n"
          ],
          "name": "stdout"
        },
        {
          "output_type": "execute_result",
          "data": {
            "text/plain": [
              "<tensorflow.python.keras.callbacks.History at 0x7f72ffbe1cf8>"
            ]
          },
          "metadata": {
            "tags": []
          },
          "execution_count": 123
        }
      ]
    },
    {
      "cell_type": "code",
      "metadata": {
        "id": "avEmdP3pqlmJ",
        "colab_type": "code",
        "colab": {}
      },
      "source": [
        "def get_cnn_v1(input_shape,num_classes):\n",
        "  return Sequential([\n",
        "    Conv2D(filters=64, kernel_size=(3,3),activation='relu',input_shape=input_shape),               \n",
        "\n",
        "    Flatten(),\n",
        "\n",
        "    Dense(num_classes, activation='softmax'),\n",
        "    ])\n",
        "def train_model(model, X_train,y_train,params_fit={}):\n",
        "    model.compile(loss='categorical_crossentropy',optimizer='Adam',metrics=['accuracy'])\n",
        "\n",
        "    logdir=os.path.join(\"logs\", datetime.datetime.now().strftime(\"%Y%m%d-%H%M%S\"))\n",
        "    tensorboard_callback=tf.keras.callbacks.TensorBoard(logdir,histogram_freq=1)\n",
        "    \n",
        "    \n",
        "    model.fit(\n",
        "        X_train,\n",
        "        y_train,\n",
        "        batch_size=params_fit.get('batch_size',128),\n",
        "        epochs=params_fit.get('epochs',5),\n",
        "        verbose=params_fit.get('verbose',1),\n",
        "        validation_data=params_fit.get('validation_data',(X_train,y_train)),\n",
        "        callbacks=[tensorboard_callback]\n",
        "        \n",
        "        \n",
        "    )\n",
        "    return model"
      ],
      "execution_count": 0,
      "outputs": []
    },
    {
      "cell_type": "code",
      "metadata": {
        "id": "SEu5cAI8qo4q",
        "colab_type": "code",
        "outputId": "8ab1337c-2a22-47f0-d76f-dfbd518c2866",
        "colab": {
          "base_uri": "https://localhost:8080/",
          "height": 213
        }
      },
      "source": [
        "model=get_cnn_v1(input_shape,num_classes)\n",
        "model_trained=train_model(model, X_train,y_train)"
      ],
      "execution_count": 125,
      "outputs": [
        {
          "output_type": "stream",
          "text": [
            "Epoch 1/5\n",
            "272/272 [==============================] - 3s 10ms/step - loss: 41.6402 - accuracy: 0.7638 - val_loss: 0.1893 - val_accuracy: 0.9559\n",
            "Epoch 2/5\n",
            "272/272 [==============================] - 2s 9ms/step - loss: 0.1917 - accuracy: 0.9563 - val_loss: 0.1051 - val_accuracy: 0.9743\n",
            "Epoch 3/5\n",
            "272/272 [==============================] - 2s 9ms/step - loss: 0.1424 - accuracy: 0.9688 - val_loss: 0.0992 - val_accuracy: 0.9771\n",
            "Epoch 4/5\n",
            "272/272 [==============================] - 2s 9ms/step - loss: 0.1237 - accuracy: 0.9717 - val_loss: 0.0775 - val_accuracy: 0.9869\n",
            "Epoch 5/5\n",
            "272/272 [==============================] - 2s 9ms/step - loss: 0.0818 - accuracy: 0.9810 - val_loss: 0.0657 - val_accuracy: 0.9843\n"
          ],
          "name": "stdout"
        }
      ]
    },
    {
      "cell_type": "code",
      "metadata": {
        "id": "7ex046-9quZF",
        "colab_type": "code",
        "outputId": "193e7154-69fd-4408-bc60-a16a581eacc3",
        "colab": {
          "base_uri": "https://localhost:8080/",
          "height": 246
        }
      },
      "source": [
        "y_pred_prob=model_trained.predict(X_test)\n",
        "y_pred_prob"
      ],
      "execution_count": 126,
      "outputs": [
        {
          "output_type": "execute_result",
          "data": {
            "text/plain": [
              "array([[6.2087985e-19, 1.8248980e-15, 1.3022016e-16, ..., 5.6968605e-12,\n",
              "        9.9999976e-01, 2.1692752e-07],\n",
              "       [5.0659449e-21, 2.9302618e-13, 2.5672122e-14, ..., 1.3717893e-09,\n",
              "        9.9708647e-01, 1.7441627e-08],\n",
              "       [8.0735428e-22, 4.6661563e-16, 3.1611720e-16, ..., 8.8229681e-11,\n",
              "        9.9958771e-01, 2.3192359e-11],\n",
              "       ...,\n",
              "       [0.0000000e+00, 3.4713629e-14, 8.3285966e-20, ..., 3.4590869e-23,\n",
              "        9.9272225e-37, 2.5265279e-29],\n",
              "       [2.0246348e-31, 7.9989192e-15, 1.1084506e-19, ..., 8.8020903e-25,\n",
              "        4.7602752e-30, 3.3967355e-31],\n",
              "       [4.8637339e-37, 1.2542851e-16, 1.2727354e-16, ..., 4.1513168e-19,\n",
              "        1.3200997e-28, 1.6818568e-28]], dtype=float32)"
            ]
          },
          "metadata": {
            "tags": []
          },
          "execution_count": 126
        }
      ]
    },
    {
      "cell_type": "code",
      "metadata": {
        "id": "IFh3-tZMy2qj",
        "colab_type": "code",
        "outputId": "4b4359cd-4d7b-41bc-9e64-3d086dd69357",
        "colab": {
          "base_uri": "https://localhost:8080/",
          "height": 175
        }
      },
      "source": [
        "y_pred_prob[400]"
      ],
      "execution_count": 127,
      "outputs": [
        {
          "output_type": "execute_result",
          "data": {
            "text/plain": [
              "array([0.01101952, 0.02622045, 0.03264389, 0.01466214, 0.01291372,\n",
              "       0.03544577, 0.0139947 , 0.02483243, 0.04478982, 0.00770912,\n",
              "       0.04485336, 0.03619478, 0.00795722, 0.00632201, 0.00615112,\n",
              "       0.00265927, 0.01123065, 0.01263244, 0.00676314, 0.0303416 ,\n",
              "       0.0171532 , 0.04409334, 0.04320269, 0.08615462, 0.01913168,\n",
              "       0.01888474, 0.00704479, 0.02204769, 0.01164212, 0.01360074,\n",
              "       0.03549638, 0.20139872, 0.00061704, 0.02157016, 0.01613018,\n",
              "       0.00539961, 0.00512371, 0.00276696, 0.01026656, 0.01070119,\n",
              "       0.00838309, 0.00465316, 0.0052005 ], dtype=float32)"
            ]
          },
          "metadata": {
            "tags": []
          },
          "execution_count": 127
        }
      ]
    },
    {
      "cell_type": "code",
      "metadata": {
        "id": "NAwbBkwRpw9K",
        "colab_type": "code",
        "outputId": "fbadd29a-ba1f-4900-df05-8f6abc1d384f",
        "colab": {
          "base_uri": "https://localhost:8080/",
          "height": 34
        }
      },
      "source": [
        "np.argmax(y_pred_prob[400])"
      ],
      "execution_count": 128,
      "outputs": [
        {
          "output_type": "execute_result",
          "data": {
            "text/plain": [
              "31"
            ]
          },
          "metadata": {
            "tags": []
          },
          "execution_count": 128
        }
      ]
    },
    {
      "cell_type": "code",
      "metadata": {
        "id": "PqSSOtSCA_Oe",
        "colab_type": "code",
        "colab": {
          "base_uri": "https://localhost:8080/",
          "height": 282
        },
        "outputId": "1464312e-f3e4-43c7-f075-4103d2814230"
      },
      "source": [
        "plt.bar(range(43),y_pred_prob[400])"
      ],
      "execution_count": 129,
      "outputs": [
        {
          "output_type": "execute_result",
          "data": {
            "text/plain": [
              "<BarContainer object of 43 artists>"
            ]
          },
          "metadata": {
            "tags": []
          },
          "execution_count": 129
        },
        {
          "output_type": "display_data",
          "data": {
            "image/png": "[encoded data removed]",
            "text/plain": [
              "<Figure size 432x288 with 1 Axes>"
            ]
          },
          "metadata": {
            "tags": []
          }
        }
      ]
    },
    {
      "cell_type": "code",
      "metadata": {
        "id": "7n_XNuW59nVt",
        "colab_type": "code",
        "colab": {}
      },
      "source": [
        "df=pd.read_csv('signnames.csv')\n",
        "labeles_dict=df.to_dict()['b']"
      ],
      "execution_count": 0,
      "outputs": []
    },
    {
      "cell_type": "code",
      "metadata": {
        "id": "vJ2Nc_yz9rjE",
        "colab_type": "code",
        "colab": {
          "base_uri": "https://localhost:8080/",
          "height": 34
        },
        "outputId": "3455cc32-d01d-457a-a77f-84716b40eb1d"
      },
      "source": [
        "labeles_dict[np.argmax(y_pred_prob[100])]"
      ],
      "execution_count": 131,
      "outputs": [
        {
          "output_type": "execute_result",
          "data": {
            "text/plain": [
              "'End of no passing'"
            ]
          },
          "metadata": {
            "tags": []
          },
          "execution_count": 131
        }
      ]
    },
    {
      "cell_type": "code",
      "metadata": {
        "id": "D1LR2tsuze-x",
        "colab_type": "code",
        "outputId": "4a3c36da-d368-455d-efc4-eb1bb1024dc8",
        "colab": {
          "base_uri": "https://localhost:8080/",
          "height": 284
        }
      },
      "source": [
        "plt.imshow(X_test[100])  "
      ],
      "execution_count": 132,
      "outputs": [
        {
          "output_type": "execute_result",
          "data": {
            "text/plain": [
              "<matplotlib.image.AxesImage at 0x7f72ffbd4908>"
            ]
          },
          "metadata": {
            "tags": []
          },
          "execution_count": 132
        },
        {
          "output_type": "display_data",
          "data": {
            "image/png": "[encoded data removed]",
            "text/plain": [
              "<Figure size 432x288 with 1 Axes>"
            ]
          },
          "metadata": {
            "tags": []
          }
        }
      ]
    },
    {
      "cell_type": "code",
      "metadata": {
        "id": "QoL5iTDHokao",
        "colab_type": "code",
        "colab": {}
      },
      "source": [
        "df=pd.read_csv('signnames.csv')\n",
        "labeles_dict=df.to_dict()['b']"
      ],
      "execution_count": 0,
      "outputs": []
    },
    {
      "cell_type": "code",
      "metadata": {
        "id": "KDR8L1SsouvD",
        "colab_type": "code",
        "colab": {}
      },
      "source": [
        "def predict(model_trained, X_test, y_test, scoring=accuracy_score):\n",
        "  y_test_norm=np.argmax(y_test,axis=1)\n",
        "  y_pred_prob=model_trained.predict(X_test)\n",
        "  y_pred=np.argmax(y_pred_prob,axis=1)\n",
        "\n",
        "  return scoring(y_test_norm,y_pred)"
      ],
      "execution_count": 0,
      "outputs": []
    },
    {
      "cell_type": "code",
      "metadata": {
        "id": "PuvzIrnfB8QS",
        "colab_type": "code",
        "colab": {}
      },
      "source": [
        ""
      ],
      "execution_count": 0,
      "outputs": []
    },
    {
      "cell_type": "code",
      "metadata": {
        "id": "oxmdfGYTiz-O",
        "colab_type": "code",
        "colab": {
          "base_uri": "https://localhost:8080/",
          "height": 34
        },
        "outputId": "663e4ed1-bd12-4989-cf68-23df7709e1e6"
      },
      "source": [
        " y_test_norm=np.argmax(y_test, axis=1)\n",
        " y_pred_prob=model_trained.predict(X_test)\n",
        " y_pred=np.argmax(y_pred_prob,axis=1)\n",
        " y_test_norm"
      ],
      "execution_count": 135,
      "outputs": [
        {
          "output_type": "execute_result",
          "data": {
            "text/plain": [
              "array([41, 41, 41, ..., 25, 25, 25])"
            ]
          },
          "metadata": {
            "tags": []
          },
          "execution_count": 135
        }
      ]
    },
    {
      "cell_type": "code",
      "metadata": {
        "id": "8_MiZnvGsHVf",
        "colab_type": "code",
        "colab": {
          "base_uri": "https://localhost:8080/",
          "height": 34
        },
        "outputId": "abc04a3f-5800-4894-ee05-af697f379232"
      },
      "source": [
        "predict(model_trained, X_test, y_test)"
      ],
      "execution_count": 136,
      "outputs": [
        {
          "output_type": "execute_result",
          "data": {
            "text/plain": [
              "0.9843386304204144"
            ]
          },
          "metadata": {
            "tags": []
          },
          "execution_count": 136
        }
      ]
    },
    {
      "cell_type": "code",
      "metadata": {
        "id": "9jqIWMMqCy_z",
        "colab_type": "code",
        "colab": {}
      },
      "source": [
        "def train_and_predict(model):\n",
        "  model_trained=train_model(model, X_train,y_train)\n",
        "  return predict(model_trained, X_test, y_test)"
      ],
      "execution_count": 0,
      "outputs": []
    },
    {
      "cell_type": "code",
      "metadata": {
        "id": "uTNnXvWZ1fk4",
        "colab_type": "code",
        "colab": {
          "base_uri": "https://localhost:8080/",
          "height": 230
        },
        "outputId": "318ffe52-1b41-433d-9c65-44ff22b496b6"
      },
      "source": [
        "def get_cnn_v2(input_shape,num_classes):\n",
        "  return Sequential([\n",
        "    Conv2D(filters=32, kernel_size=(3,3),activation='relu',input_shape=input_shape), \n",
        "    MaxPool2D(),   \n",
        "    Dropout(0.3),          \n",
        "    Conv2D(filters=64, kernel_size=(3,3),activation='relu'),\n",
        "    MaxPool2D(),\n",
        "\n",
        "    Flatten(),\n",
        "    Dense(1024, activation='relu'),\n",
        "    Dropout(0.3),\n",
        "\n",
        "    Dense(num_classes, activation='softmax'),\n",
        "    ])\n",
        "\n",
        "train_and_predict(get_cnn_v2(input_shape,num_classes))"
      ],
      "execution_count": 138,
      "outputs": [
        {
          "output_type": "stream",
          "text": [
            "Epoch 1/5\n",
            "272/272 [==============================] - 3s 9ms/step - loss: 4.9855 - accuracy: 0.4114 - val_loss: 0.8905 - val_accuracy: 0.7475\n",
            "Epoch 2/5\n",
            "272/272 [==============================] - 2s 9ms/step - loss: 0.8634 - accuracy: 0.7460 - val_loss: 0.4042 - val_accuracy: 0.8870\n",
            "Epoch 3/5\n",
            "272/272 [==============================] - 2s 9ms/step - loss: 0.4738 - accuracy: 0.8598 - val_loss: 0.2179 - val_accuracy: 0.9461\n",
            "Epoch 4/5\n",
            "272/272 [==============================] - 2s 9ms/step - loss: 0.3086 - accuracy: 0.9120 - val_loss: 0.1188 - val_accuracy: 0.9657\n",
            "Epoch 5/5\n",
            "272/272 [==============================] - 2s 9ms/step - loss: 0.2104 - accuracy: 0.9393 - val_loss: 0.0630 - val_accuracy: 0.9865\n"
          ],
          "name": "stdout"
        },
        {
          "output_type": "execute_result",
          "data": {
            "text/plain": [
              "0.9864938647662289"
            ]
          },
          "metadata": {
            "tags": []
          },
          "execution_count": 138
        }
      ]
    },
    {
      "cell_type": "code",
      "metadata": {
        "id": "RvNI_pr3PIQY",
        "colab_type": "code",
        "colab": {
          "base_uri": "https://localhost:8080/",
          "height": 230
        },
        "outputId": "9d9dba6a-c97c-4e36-9ce6-fdc23623d03b"
      },
      "source": [
        "def get_cnn_v3(input_shape,num_classes):\n",
        "  return Sequential([\n",
        "    Conv2D(filters=32, kernel_size=(3,3),activation='relu',input_shape=input_shape), \n",
        "    Conv2D(filters=32, kernel_size=(3,3),activation='relu'),\n",
        "    MaxPool2D(),   \n",
        "    Dropout(0.3),       \n",
        "    Conv2D(filters=64, kernel_size=(3,3),activation='relu'),  \n",
        "    Conv2D(filters=64, kernel_size=(3,3),activation='relu'),\n",
        "    MaxPool2D(),\n",
        "    Dropout(0.3),  \n",
        "\n",
        "\n",
        "    Flatten(),\n",
        "    Dense(1024, activation='relu'),\n",
        "    Dropout(0.3),\n",
        "\n",
        "    Dense(num_classes, activation='softmax'),\n",
        "    ])\n",
        "\n",
        "train_and_predict(get_cnn_v3(input_shape,num_classes))"
      ],
      "execution_count": 139,
      "outputs": [
        {
          "output_type": "stream",
          "text": [
            "Epoch 1/5\n",
            "272/272 [==============================] - 3s 12ms/step - loss: 1.6114 - accuracy: 0.6374 - val_loss: 0.1407 - val_accuracy: 0.9699\n",
            "Epoch 2/5\n",
            "272/272 [==============================] - 3s 11ms/step - loss: 0.2638 - accuracy: 0.9235 - val_loss: 0.0558 - val_accuracy: 0.9883\n",
            "Epoch 3/5\n",
            "272/272 [==============================] - 3s 11ms/step - loss: 0.1633 - accuracy: 0.9533 - val_loss: 0.0322 - val_accuracy: 0.9914\n",
            "Epoch 4/5\n",
            "272/272 [==============================] - 3s 11ms/step - loss: 0.1104 - accuracy: 0.9672 - val_loss: 0.0150 - val_accuracy: 0.9961\n",
            "Epoch 5/5\n",
            "272/272 [==============================] - 3s 11ms/step - loss: 0.0892 - accuracy: 0.9744 - val_loss: 0.0262 - val_accuracy: 0.9947\n"
          ],
          "name": "stdout"
        },
        {
          "output_type": "execute_result",
          "data": {
            "text/plain": [
              "0.9947412281962126"
            ]
          },
          "metadata": {
            "tags": []
          },
          "execution_count": 139
        }
      ]
    },
    {
      "cell_type": "code",
      "metadata": {
        "id": "yeFI2UqzY1KT",
        "colab_type": "code",
        "colab": {
          "base_uri": "https://localhost:8080/",
          "height": 230
        },
        "outputId": "8e60c7a9-07f2-4bab-b2ad-18cab79201c3"
      },
      "source": [
        "def get_cnn_v4(input_shape,num_classes):\n",
        "  return Sequential([\n",
        "    Conv2D(filters=32, kernel_size=(3,3),activation='relu',input_shape=input_shape), \n",
        "    Conv2D(filters=32, kernel_size=(3,3),activation='relu',padding='same'),\n",
        "    MaxPool2D(),   \n",
        "    Dropout(0.3), \n",
        "\n",
        "    Conv2D(filters=64, kernel_size=(3,3),activation='relu',padding='same'),  \n",
        "    Conv2D(filters=64, kernel_size=(3,3),activation='relu'),\n",
        "    MaxPool2D(),\n",
        "    Dropout(0.3),  \n",
        "\n",
        "    Conv2D(filters=64, kernel_size=(3,3),activation='relu',padding='same'),  \n",
        "    Conv2D(filters=64, kernel_size=(3,3),activation='relu'),\n",
        "    MaxPool2D(),\n",
        "    Dropout(0.3),\n",
        "\n",
        "    Flatten(),\n",
        "    Dense(1024, activation='relu'),\n",
        "    Dropout(0.3),\n",
        "\n",
        "    Dense(num_classes, activation='softmax'),\n",
        "    ])\n",
        "\n",
        "train_and_predict(get_cnn_v4(input_shape,num_classes))"
      ],
      "execution_count": 145,
      "outputs": [
        {
          "output_type": "stream",
          "text": [
            "Epoch 1/5\n",
            "272/272 [==============================] - 4s 14ms/step - loss: 3.0283 - accuracy: 0.2128 - val_loss: 1.2998 - val_accuracy: 0.6310\n",
            "Epoch 2/5\n",
            "272/272 [==============================] - 3s 13ms/step - loss: 0.9879 - accuracy: 0.7050 - val_loss: 0.2970 - val_accuracy: 0.9203\n",
            "Epoch 3/5\n",
            "272/272 [==============================] - 3s 13ms/step - loss: 0.4161 - accuracy: 0.8762 - val_loss: 0.0987 - val_accuracy: 0.9770\n",
            "Epoch 4/5\n",
            "272/272 [==============================] - 4s 13ms/step - loss: 0.2620 - accuracy: 0.9220 - val_loss: 0.0605 - val_accuracy: 0.9865\n",
            "Epoch 5/5\n",
            "272/272 [==============================] - 4s 13ms/step - loss: 0.1876 - accuracy: 0.9446 - val_loss: 0.0332 - val_accuracy: 0.9924\n"
          ],
          "name": "stdout"
        },
        {
          "output_type": "execute_result",
          "data": {
            "text/plain": [
              "0.9923561021868444"
            ]
          },
          "metadata": {
            "tags": []
          },
          "execution_count": 145
        }
      ]
    },
    {
      "cell_type": "code",
      "metadata": {
        "id": "BVQyioEqaYUV",
        "colab_type": "code",
        "colab": {
          "base_uri": "https://localhost:8080/",
          "height": 230
        },
        "outputId": "5013f7fc-7ef2-4a5d-e709-346582f45f58"
      },
      "source": [
        "def get_cnn_v5(input_shape,num_classes):\n",
        "  return Sequential([\n",
        "    Conv2D(filters=32, kernel_size=(3,3),activation='relu',input_shape=input_shape), \n",
        "    Conv2D(filters=32, kernel_size=(3,3),activation='relu',padding='same'),\n",
        "    MaxPool2D(),   \n",
        "    Dropout(0.3), \n",
        "\n",
        "    Conv2D(filters=64, kernel_size=(3,3),activation='relu',padding='same'),  \n",
        "    Conv2D(filters=64, kernel_size=(3,3),activation='relu'),\n",
        "    MaxPool2D(),\n",
        "    Dropout(0.3),  \n",
        "\n",
        "    Conv2D(filters=64, kernel_size=(3,3),activation='relu',padding='same'),  \n",
        "    Conv2D(filters=64, kernel_size=(3,3),activation='relu'),\n",
        "    MaxPool2D(),\n",
        "    Dropout(0.3),\n",
        "\n",
        "    Flatten(),\n",
        "    Dense(1024, activation='relu'),\n",
        "    Dropout(0.3),\n",
        "\n",
        "    Dense(1024, activation='relu'),\n",
        "    Dropout(0.3),\n",
        "\n",
        "    Dense(num_classes, activation='softmax'),\n",
        "    ])\n",
        "\n",
        "train_and_predict(get_cnn_v5(input_shape,num_classes))"
      ],
      "execution_count": 146,
      "outputs": [
        {
          "output_type": "stream",
          "text": [
            "Epoch 1/5\n",
            "272/272 [==============================] - 4s 14ms/step - loss: 2.4352 - accuracy: 0.3084 - val_loss: 1.0133 - val_accuracy: 0.6772\n",
            "Epoch 2/5\n",
            "272/272 [==============================] - 4s 15ms/step - loss: 0.8424 - accuracy: 0.7286 - val_loss: 0.2041 - val_accuracy: 0.9382\n",
            "Epoch 3/5\n",
            "272/272 [==============================] - 4s 14ms/step - loss: 0.4219 - accuracy: 0.8683 - val_loss: 0.0893 - val_accuracy: 0.9745\n",
            "Epoch 4/5\n",
            "272/272 [==============================] - 4s 14ms/step - loss: 0.2888 - accuracy: 0.9130 - val_loss: 0.0510 - val_accuracy: 0.9864\n",
            "Epoch 5/5\n",
            "272/272 [==============================] - 4s 14ms/step - loss: 0.2260 - accuracy: 0.9323 - val_loss: 0.0452 - val_accuracy: 0.9865\n"
          ],
          "name": "stdout"
        },
        {
          "output_type": "execute_result",
          "data": {
            "text/plain": [
              "0.9864938647662289"
            ]
          },
          "metadata": {
            "tags": []
          },
          "execution_count": 146
        }
      ]
    },
    {
      "cell_type": "code",
      "metadata": {
        "id": "K1tZj8-KimsN",
        "colab_type": "code",
        "colab": {}
      },
      "source": [
        "X_train_gray=color.rgb2gray(X_train).reshape(-1,32,32,1)\n",
        "X_test_gray=color.rgb2gray(X_test).reshape(-1,32,32,1)"
      ],
      "execution_count": 0,
      "outputs": []
    },
    {
      "cell_type": "code",
      "metadata": {
        "id": "9Y21V4iQqk7W",
        "colab_type": "code",
        "colab": {
          "base_uri": "https://localhost:8080/",
          "height": 230
        },
        "outputId": "60a957b5-b46a-4a43-9b16-9a7d55747148"
      },
      "source": [
        "model= get_cnn_v5((32,32,1),num_classes)\n",
        "model_trained = train_model(model, X_train_gray,y_train,params_fit={})\n",
        "predict(model_trained, X_test_gray,y_test)\n",
        "\n",
        "\n",
        "\n"
      ],
      "execution_count": 166,
      "outputs": [
        {
          "output_type": "stream",
          "text": [
            "Epoch 1/5\n",
            "272/272 [==============================] - 4s 14ms/step - loss: 2.3967 - accuracy: 0.3136 - val_loss: 0.6084 - val_accuracy: 0.7914\n",
            "Epoch 2/5\n",
            "272/272 [==============================] - 4s 13ms/step - loss: 0.5480 - accuracy: 0.8208 - val_loss: 0.1480 - val_accuracy: 0.9551\n",
            "Epoch 3/5\n",
            "272/272 [==============================] - 4s 14ms/step - loss: 0.2555 - accuracy: 0.9207 - val_loss: 0.0703 - val_accuracy: 0.9803\n",
            "Epoch 4/5\n",
            "272/272 [==============================] - 4s 14ms/step - loss: 0.1651 - accuracy: 0.9481 - val_loss: 0.0470 - val_accuracy: 0.9878\n",
            "Epoch 5/5\n",
            "272/272 [==============================] - 4s 13ms/step - loss: 0.1298 - accuracy: 0.9597 - val_loss: 0.0290 - val_accuracy: 0.9918\n"
          ],
          "name": "stdout"
        },
        {
          "output_type": "execute_result",
          "data": {
            "text/plain": [
              "0.9917526365700163"
            ]
          },
          "metadata": {
            "tags": []
          },
          "execution_count": 166
        }
      ]
    },
    {
      "cell_type": "code",
      "metadata": {
        "id": "6BpjpjCjjiK1",
        "colab_type": "code",
        "colab": {
          "base_uri": "https://localhost:8080/",
          "height": 284
        },
        "outputId": "efae65b6-0915-4bcc-d98d-b3d3163d95f8"
      },
      "source": [
        "plt.imshowcolor.rgb2gray(X_train[0])(,cmap=plt.get_cmap('gray'))"
      ],
      "execution_count": 150,
      "outputs": [
        {
          "output_type": "execute_result",
          "data": {
            "text/plain": [
              "<matplotlib.image.AxesImage at 0x7f72ff444dd8>"
            ]
          },
          "metadata": {
            "tags": []
          },
          "execution_count": 150
        },
        {
          "output_type": "display_data",
          "data": {
            "image/png": "[encoded data removed]",
            "text/plain": [
              "<Figure size 432x288 with 1 Axes>"
            ]
          },
          "metadata": {
            "tags": []
          }
        }
      ]
    }
  ]
}
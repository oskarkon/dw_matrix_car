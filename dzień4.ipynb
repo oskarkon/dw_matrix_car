{
  "nbformat": 4,
  "nbformat_minor": 0,
  "metadata": {
    "colab": {
      "name": "dzień4.ipynb",
      "provenance": [],
      "mount_file_id": "1-tSmyU6q19bCHSWgyn_U_kH0st_-OtCP",
      "authorship_tag": "ABX9TyMMrqSQCV36twfebYLA2auz",
      "include_colab_link": true
    },
    "kernelspec": {
      "name": "python3",
      "display_name": "Python 3"
    },
    "accelerator": "GPU"
  },
  "cells": [
    {
      "cell_type": "markdown",
      "metadata": {
        "id": "view-in-github",
        "colab_type": "text"
      },
      "source": [
        "<a href=\"https://colab.research.google.com/github/oskarkon/dw_matrix_car/blob/master/dzie%C5%844.ipynb\" target=\"_parent\"><img src=\"https://colab.research.google.com/assets/colab-badge.svg\" alt=\"Open In Colab\"/></a>"
      ]
    },
    {
      "cell_type": "code",
      "metadata": {
        "id": "KfO97S5Pn1IV",
        "colab_type": "code",
        "colab": {
          "base_uri": "https://localhost:8080/",
          "height": 34
        },
        "outputId": "dd91cca2-d935-4297-d807-dcf85f1b5469"
      },
      "source": [
        "import pandas as pd\n",
        "import numpy as np\n",
        "import os\n",
        "import datetime\n",
        "import tensorflow as tf\n",
        "from tensorflow.keras.models import Sequential\n",
        "from tensorflow.keras.layers import Conv2D, MaxPool2D, Dense, Flatten,Dropout\n",
        "from tensorflow.keras.utils import to_categorical\n",
        "%tensorflow_version 1.x\n",
        "#%load_ext tensorboard\n",
        "import matplotlib.pyplot as plt\n",
        "from skimage import color,exposure\n"
      ],
      "execution_count": 27,
      "outputs": [
        {
          "output_type": "stream",
          "text": [
            "TensorFlow is already loaded. Please restart the runtime to change versions.\n"
          ],
          "name": "stdout"
        }
      ]
    },
    {
      "cell_type": "code",
      "metadata": {
        "id": "rjJ7WKopoLFO",
        "colab_type": "code",
        "colab": {
          "base_uri": "https://localhost:8080/",
          "height": 34
        },
        "outputId": "00de2efe-28eb-42cb-cd92-0bd55bda72c9"
      },
      "source": [
        "cd '/content/drive/My Drive/Colab Notebooks/dw_matrix/matrix_tree/data/dw_matrix_road_sign/data'"
      ],
      "execution_count": 28,
      "outputs": [
        {
          "output_type": "stream",
          "text": [
            "/content/drive/My Drive/Colab Notebooks/dw_matrix/matrix_tree/data/dw_matrix_road_sign/data\n"
          ],
          "name": "stdout"
        }
      ]
    },
    {
      "cell_type": "code",
      "metadata": {
        "id": "jJfknDqgogNP",
        "colab_type": "code",
        "colab": {}
      },
      "source": [
        "train=pd.read_pickle('train.p')\n",
        "test=pd.read_pickle('test.p')\n",
        "X_train, y_train =train['features'], train['labels']\n",
        "X_test,y_test=test['features'],test['labels']"
      ],
      "execution_count": 0,
      "outputs": []
    },
    {
      "cell_type": "code",
      "metadata": {
        "id": "r97lE22fpE-0",
        "colab_type": "code",
        "colab": {}
      },
      "source": [
        "if y_train.ndim ==1: y_train=to_categorical(y_train)\n",
        "if y_test.ndim ==1: y_test=to_categorical(y_test)"
      ],
      "execution_count": 0,
      "outputs": []
    },
    {
      "cell_type": "code",
      "metadata": {
        "id": "IAZXdgrUpmTG",
        "colab_type": "code",
        "colab": {}
      },
      "source": [
        "input_shape=X_train.shape[1:]\n",
        "num_classes = y_train.shape[1]"
      ],
      "execution_count": 0,
      "outputs": []
    },
    {
      "cell_type": "code",
      "metadata": {
        "id": "7fdQ0JyTqf5N",
        "colab_type": "code",
        "colab": {
          "base_uri": "https://localhost:8080/",
          "height": 52
        },
        "outputId": "f5885fee-185f-49dd-934f-74eaf7347552"
      },
      "source": [
        "model=Sequential([\n",
        "   Conv2D(filters=64, kernel_size=(3,3),activation='relu',input_shape=input_shape),               \n",
        "\n",
        "    Flatten(),\n",
        "\n",
        "    Dense(num_classes, activation='softmax'),\n",
        "])\n",
        "#model.summary()\n",
        "model.compile(loss='categorical_crossentropy',optimizer='Adam',metrics=['accuracy'])\n",
        "\n",
        "model.fit(X_train,y_train)"
      ],
      "execution_count": 32,
      "outputs": [
        {
          "output_type": "stream",
          "text": [
            "1088/1088 [==============================] - 4s 4ms/step - loss: 10.1017 - accuracy: 0.7969\n"
          ],
          "name": "stdout"
        },
        {
          "output_type": "execute_result",
          "data": {
            "text/plain": [
              "<tensorflow.python.keras.callbacks.History at 0x7fa2fd785438>"
            ]
          },
          "metadata": {
            "tags": []
          },
          "execution_count": 32
        }
      ]
    },
    {
      "cell_type": "code",
      "metadata": {
        "id": "avEmdP3pqlmJ",
        "colab_type": "code",
        "colab": {}
      },
      "source": [
        "def get_cnn_v1(input_shape,num_classes):\n",
        "  return Sequential([\n",
        "    Conv2D(filters=64, kernel_size=(3,3),activation='relu',input_shape=input_shape),               \n",
        "\n",
        "    Flatten(),\n",
        "\n",
        "    Dense(num_classes, activation='softmax'),\n",
        "    ])\n",
        "def train_model(model, X_train,y_train,params_fit={}):\n",
        "    model.compile(loss='categorical_crossentropy',optimizer='Adam',metrics=['accuracy'])\n",
        "\n",
        "    logdir=os.path.join(\"logs\", datetime.datetime.now().strftime(\"%Y%m%d-%H%M%S\"))\n",
        "    tensorboard_callback=tf.keras.callbacks.TensorBoard(logdir,histogram_freq=1)\n",
        "    \n",
        "    \n",
        "    model.fit(\n",
        "        X_train,\n",
        "        y_train,\n",
        "        batch_size=params_fit.get('batch_size',128),\n",
        "        epochs=params_fit.get('epochs',5),\n",
        "        verbose=params_fit.get('verbose',1),\n",
        "        validation_data=params_fit.get('validation_data',(X_train,y_train)),\n",
        "        callbacks=[tensorboard_callback]\n",
        "        \n",
        "        \n",
        "    )\n",
        "    return model"
      ],
      "execution_count": 0,
      "outputs": []
    },
    {
      "cell_type": "code",
      "metadata": {
        "id": "SEu5cAI8qo4q",
        "colab_type": "code",
        "colab": {
          "base_uri": "https://localhost:8080/",
          "height": 193
        },
        "outputId": "37c739a5-2aa1-4907-8802-0d6ea3d68597"
      },
      "source": [
        "model=get_cnn_v1(input_shape,num_classes)\n",
        "model_trained=train_model(model, X_train,y_train)"
      ],
      "execution_count": 34,
      "outputs": [
        {
          "output_type": "stream",
          "text": [
            "Epoch 1/5\n",
            "272/272 [==============================] - 3s 11ms/step - loss: 23.9651 - accuracy: 0.7336 - val_loss: 0.2452 - val_accuracy: 0.9429\n",
            "Epoch 2/5\n",
            "272/272 [==============================] - 3s 10ms/step - loss: 0.2055 - accuracy: 0.9526 - val_loss: 0.0889 - val_accuracy: 0.9792\n",
            "Epoch 3/5\n",
            "272/272 [==============================] - 3s 10ms/step - loss: 0.1194 - accuracy: 0.9728 - val_loss: 0.1004 - val_accuracy: 0.9786\n",
            "Epoch 4/5\n",
            "272/272 [==============================] - 3s 10ms/step - loss: 0.1163 - accuracy: 0.9741 - val_loss: 0.1602 - val_accuracy: 0.9667\n",
            "Epoch 5/5\n",
            "272/272 [==============================] - 3s 10ms/step - loss: 0.1013 - accuracy: 0.9776 - val_loss: 0.0897 - val_accuracy: 0.9786\n"
          ],
          "name": "stdout"
        }
      ]
    },
    {
      "cell_type": "code",
      "metadata": {
        "id": "7ex046-9quZF",
        "colab_type": "code",
        "colab": {
          "base_uri": "https://localhost:8080/",
          "height": 246
        },
        "outputId": "096d572a-02bd-4a5a-cba2-c2f2dfe52a27"
      },
      "source": [
        "y_pred_prob=model_trained.predict(X_test)\n",
        "y_pred_prob"
      ],
      "execution_count": 35,
      "outputs": [
        {
          "output_type": "execute_result",
          "data": {
            "text/plain": [
              "array([[2.3804986e-11, 5.6107408e-10, 4.0781517e-11, ..., 6.1432238e-06,\n",
              "        9.9965513e-01, 3.1353394e-04],\n",
              "       [3.0064858e-14, 5.2251697e-10, 1.1729548e-10, ..., 5.6957924e-07,\n",
              "        9.8809564e-01, 4.4362722e-09],\n",
              "       [2.8039596e-14, 2.3690132e-12, 1.0348234e-11, ..., 5.9004623e-09,\n",
              "        9.9958760e-01, 5.5285953e-11],\n",
              "       ...,\n",
              "       [0.0000000e+00, 3.8904746e-24, 1.5306006e-28, ..., 2.5805015e-28,\n",
              "        2.0053188e-33, 0.0000000e+00],\n",
              "       [6.9700271e-24, 1.0741275e-18, 2.8258836e-17, ..., 1.4982098e-21,\n",
              "        2.3348531e-17, 1.7154399e-29],\n",
              "       [2.2789960e-36, 2.4563532e-15, 2.8027321e-21, ..., 1.4478674e-20,\n",
              "        2.8449055e-27, 1.1120927e-29]], dtype=float32)"
            ]
          },
          "metadata": {
            "tags": []
          },
          "execution_count": 35
        }
      ]
    },
    {
      "cell_type": "code",
      "metadata": {
        "id": "IFh3-tZMy2qj",
        "colab_type": "code",
        "colab": {
          "base_uri": "https://localhost:8080/",
          "height": 175
        },
        "outputId": "06ca315e-2464-4664-88df-38c7d3fb2e57"
      },
      "source": [
        "y_pred_prob[400]"
      ],
      "execution_count": 36,
      "outputs": [
        {
          "output_type": "execute_result",
          "data": {
            "text/plain": [
              "array([0.00539502, 0.01304396, 0.10297614, 0.00860378, 0.01218118,\n",
              "       0.01426175, 0.01247867, 0.05080529, 0.02803406, 0.00790482,\n",
              "       0.00200723, 0.01251675, 0.00827692, 0.00300857, 0.00123554,\n",
              "       0.00446488, 0.00720034, 0.00193352, 0.00684646, 0.01291629,\n",
              "       0.00403183, 0.02357724, 0.02881877, 0.01535558, 0.00748405,\n",
              "       0.00503659, 0.01457622, 0.01771958, 0.03536954, 0.02183314,\n",
              "       0.02916785, 0.20239146, 0.0007656 , 0.06622211, 0.0104902 ,\n",
              "       0.02192611, 0.00354983, 0.01832721, 0.01698926, 0.03015568,\n",
              "       0.08745376, 0.01405066, 0.00861648], dtype=float32)"
            ]
          },
          "metadata": {
            "tags": []
          },
          "execution_count": 36
        }
      ]
    },
    {
      "cell_type": "code",
      "metadata": {
        "id": "NAwbBkwRpw9K",
        "colab_type": "code",
        "colab": {
          "base_uri": "https://localhost:8080/",
          "height": 34
        },
        "outputId": "9fe20058-f6b6-4e20-db0e-5b21f664c8d0"
      },
      "source": [
        "np.argmax(y_pred_prob[400])"
      ],
      "execution_count": 45,
      "outputs": [
        {
          "output_type": "execute_result",
          "data": {
            "text/plain": [
              "31"
            ]
          },
          "metadata": {
            "tags": []
          },
          "execution_count": 45
        }
      ]
    },
    {
      "cell_type": "code",
      "metadata": {
        "id": "D1LR2tsuze-x",
        "colab_type": "code",
        "colab": {
          "base_uri": "https://localhost:8080/",
          "height": 284
        },
        "outputId": "3e939aea-07e9-434b-f0e2-a14d7f693d97"
      },
      "source": [
        "plt.imshow(X_test[400])  "
      ],
      "execution_count": 37,
      "outputs": [
        {
          "output_type": "execute_result",
          "data": {
            "text/plain": [
              "<matplotlib.image.AxesImage at 0x7fa286a082b0>"
            ]
          },
          "metadata": {
            "tags": []
          },
          "execution_count": 37
        },
        {
          "output_type": "display_data",
          "data": {
            "image/png": "[encoded data removed]",
            "text/plain": [
              "<Figure size 432x288 with 1 Axes>"
            ]
          },
          "metadata": {
            "tags": []
          }
        }
      ]
    },
    {
      "cell_type": "code",
      "metadata": {
        "id": "lA-M2F9opv61",
        "colab_type": "code",
        "colab": {}
      },
      "source": [
        ""
      ],
      "execution_count": 0,
      "outputs": []
    },
    {
      "cell_type": "code",
      "metadata": {
        "id": "7pvwlHqAn9Ji",
        "colab_type": "code",
        "colab": {
          "base_uri": "https://localhost:8080/",
          "height": 34
        },
        "outputId": "c3506cbd-7282-486a-d21f-db6118d10802"
      },
      "source": [
        "ls\n"
      ],
      "execution_count": 40,
      "outputs": [
        {
          "output_type": "stream",
          "text": [
            "\u001b[0m\u001b[01;34mdw_matrix_road_sign\u001b[0m/  \u001b[01;34mlogs\u001b[0m/  signnames.csv  test.p  train.p\n"
          ],
          "name": "stdout"
        }
      ]
    },
    {
      "cell_type": "code",
      "metadata": {
        "id": "QoL5iTDHokao",
        "colab_type": "code",
        "colab": {}
      },
      "source": [
        "df=pd.read_csv('signnames.csv')\n",
        "labeles_dict=df.to_dict()['b']"
      ],
      "execution_count": 0,
      "outputs": []
    },
    {
      "cell_type": "code",
      "metadata": {
        "id": "KDR8L1SsouvD",
        "colab_type": "code",
        "colab": {}
      },
      "source": [
        ""
      ],
      "execution_count": 0,
      "outputs": []
    }
  ]
}